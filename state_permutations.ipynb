{
 "cells": [
  {
   "cell_type": "code",
   "execution_count": 79,
   "id": "2403aeb9",
   "metadata": {},
   "outputs": [],
   "source": [
    "state_str = 'a***d***ebabeda*faecffddgeb*gfccggbc'"
   ]
  },
  {
   "cell_type": "code",
   "execution_count": 80,
   "id": "07bfd6c6",
   "metadata": {},
   "outputs": [],
   "source": [
    "def find_all(string, substring):\n",
    "    indices = list()\n",
    "    i = -1\n",
    "    while i < len(string):\n",
    "        index = string.find(substring, i+1)\n",
    "        if index > -1:\n",
    "            indices.append(index)\n",
    "            i = index\n",
    "        else:\n",
    "            break\n",
    "    return indices"
   ]
  },
  {
   "cell_type": "code",
   "execution_count": 88,
   "id": "f672ae77",
   "metadata": {},
   "outputs": [],
   "source": [
    "def find_char_sets(string):\n",
    "    unique_chars = list(set(string))\n",
    "    \n",
    "    char_list = list()\n",
    "    for char in unique_chars:\n",
    "        char_list.append(find_all(string, char))\n",
    "        \n",
    "    char_dict = dict()\n",
    "    for char in unique_chars:\n",
    "        char_dict[char] = char_list\n",
    "        \n",
    "    return char_dict, len(char_list)"
   ]
  },
  {
   "cell_type": "code",
   "execution_count": 82,
   "id": "38763ae6",
   "metadata": {},
   "outputs": [],
   "source": [
    "def get_permutation_list(index_list):\n",
    "    if len(index_list) <= 1:\n",
    "        return [index_list]\n",
    "    \n",
    "    permutations = list()\n",
    "    for i in range(0, len(index_list)):\n",
    "        sub_permutations = get_permutation_list(index_list[:i]+index_list[i+1:])\n",
    "        for sp in sub_permutations:\n",
    "            permutations.append([index_list[i]]+sp)\n",
    "    return permutations"
   ]
  },
  {
   "cell_type": "code",
   "execution_count": 112,
   "id": "6416c8eb",
   "metadata": {},
   "outputs": [],
   "source": [
    "def get_permutations(string):\n",
    "    char_dict, index_len = find_char_sets(string)\n",
    "    index_permutations = get_permutation_list(list(range(0, index_len)))\n",
    "\n",
    "    permutations = list()\n",
    "    for index_list in index_permutations:\n",
    "        new_string = ' '*len(string)\n",
    "        for key in char_dict:\n",
    "            index = index_list.pop(0)\n",
    "            index_sets = char_dict[key]\n",
    "            for loc in index_sets[index]:\n",
    "                new_string = new_string[:loc]+key+new_string[loc+1:]\n",
    "        permutations.append(new_string)\n",
    "    return permutations"
   ]
  },
  {
   "cell_type": "code",
   "execution_count": 114,
   "id": "ef1b09f1",
   "metadata": {},
   "outputs": [
    {
     "data": {
      "text/plain": [
       "['aacbb', 'bbcaa', 'aabcc', 'bbacc', 'ccbaa', 'ccabb']"
      ]
     },
     "execution_count": 114,
     "metadata": {},
     "output_type": "execute_result"
    }
   ],
   "source": [
    "get_permutations('aacbb')"
   ]
  }
 ],
 "metadata": {
  "kernelspec": {
   "display_name": "Python 3 (ipykernel)",
   "language": "python",
   "name": "python3"
  },
  "language_info": {
   "codemirror_mode": {
    "name": "ipython",
    "version": 3
   },
   "file_extension": ".py",
   "mimetype": "text/x-python",
   "name": "python",
   "nbconvert_exporter": "python",
   "pygments_lexer": "ipython3",
   "version": "3.8.9"
  }
 },
 "nbformat": 4,
 "nbformat_minor": 5
}
