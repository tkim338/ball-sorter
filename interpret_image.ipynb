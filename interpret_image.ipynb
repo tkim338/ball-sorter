{
 "cells": [
  {
   "cell_type": "code",
   "execution_count": 169,
   "id": "ad31b9b7",
   "metadata": {},
   "outputs": [],
   "source": [
    "import matplotlib.pyplot as plt\n",
    "import cv2\n",
    "import pandas as pd\n",
    "import random\n",
    "import copy"
   ]
  },
  {
   "cell_type": "code",
   "execution_count": 135,
   "id": "d6e35153",
   "metadata": {},
   "outputs": [],
   "source": [
    "def edge_detection(image_location):\n",
    "    # Read the original image\n",
    "    img = cv2.imread(image_location)\n",
    "    # img = img[500:950,100:250]\n",
    "    img = img[500:1450, 100:1000]\n",
    "\n",
    "    # Convert to graycsale\n",
    "    img_gray = cv2.cvtColor(img, cv2.COLOR_BGR2GRAY)\n",
    "    # Blur the image for better edge detection\n",
    "    img_blur = cv2.GaussianBlur(img_gray, (3,3), 0) \n",
    "\n",
    "    # Canny Edge Detection\n",
    "    # edges = cv2.Canny(image=img_blur, threshold1=100, threshold2=200) # Canny Edge Detection\n",
    "    edges = cv2.Canny(image=img_blur, threshold1=200, threshold2=300) # Canny Edge Detection\n",
    "    return edges"
   ]
  },
  {
   "cell_type": "code",
   "execution_count": 263,
   "id": "6eb4b73b",
   "metadata": {},
   "outputs": [],
   "source": [
    "def shape_classifier(blob):\n",
    "    # based on ratio of height and width\n",
    "    x_min = 10000000\n",
    "    x_max = 0\n",
    "    y_min = 10000000\n",
    "    y_max = 0\n",
    "    \n",
    "    for coor in blob:\n",
    "        x_min = min([x_min, coor[0]])\n",
    "        x_max = max([x_max, coor[0]])\n",
    "        y_min = min([y_min, coor[1]])\n",
    "        y_max = max([y_max, coor[1]])\n",
    "        \n",
    "    height = x_max - x_min\n",
    "    width = y_max - y_min\n",
    "    center = (int((x_max+x_min)/2), int((y_max+y_min)/2))\n",
    "    \n",
    "    bounds = ((x_min, x_max),(y_min, y_max))\n",
    "    if height/width > 2:\n",
    "        return 'tube', center, bounds\n",
    "    else:\n",
    "        return 'ball', center, bounds"
   ]
  },
  {
   "cell_type": "code",
   "execution_count": 274,
   "id": "cda387d9",
   "metadata": {},
   "outputs": [],
   "source": [
    "def proximity(c0, c1, r):\n",
    "    x = abs(c0[0]-c1[0])\n",
    "    y = abs(c0[1]-c1[1])\n",
    "    if (x*x)+(y*y) > r*r:\n",
    "        return False\n",
    "    else:\n",
    "        return True"
   ]
  },
  {
   "cell_type": "code",
   "execution_count": 261,
   "id": "027a559f",
   "metadata": {},
   "outputs": [],
   "source": [
    "def get_shapes(blobs):\n",
    "    shape_centers = dict()\n",
    "    for blob in blobs:\n",
    "        shape, center, bounds = shape_classifier(blob)\n",
    "        if shape not in shape_centers:\n",
    "            shape_centers[shape] = list()\n",
    "        \n",
    "        new = True\n",
    "        for other_center, other_bounds in shape_centers[shape]:\n",
    "            if proximity(center, other_center, 10):\n",
    "                new = False\n",
    "                \n",
    "        if new:\n",
    "            shape_centers[shape].append((center, bounds))\n",
    "        \n",
    "    return shape_centers"
   ]
  },
  {
   "cell_type": "code",
   "execution_count": 198,
   "id": "8b0f551b",
   "metadata": {},
   "outputs": [],
   "source": [
    "def blob_finder(edge_image):\n",
    "    blobs = list()\n",
    "    for x in range(0, len(edge_image)):\n",
    "        for y in range(0, len(edge_image[x])):\n",
    "            if edge_image[x,y] == 255:\n",
    "                blob, edge_image = find_line(x, y, [(x,y)], edge_image)\n",
    "                blobs.append(blob)\n",
    "    return blobs\n",
    "            \n",
    "def find_line(x, y, history, edge_image):\n",
    "    x_min = max(0, x-1)\n",
    "    x_max = min(len(edge_image), x+1)\n",
    "    y_min = max(0, y-1)\n",
    "    y_max = min(len(edge_image[0]), y+1)\n",
    "    \n",
    "    for i in range(x_min, x_max+1):\n",
    "        for j in range(y_min, y_max+1):\n",
    "            if (i,j) not in history and edge_image[i,j] == 255:\n",
    "                edge_image[i,j] = 0\n",
    "                history, edge_image = find_line(i, j, history+[(i,j)], edge_image)\n",
    "    return history, edge_image"
   ]
  },
  {
   "cell_type": "code",
   "execution_count": null,
   "id": "f75ef82c",
   "metadata": {},
   "outputs": [],
   "source": [
    "def find_line(x, y, edge_image):\n",
    "    line_members = [(x,y)]\n",
    "    new_members = [(x,y)]\n",
    "    \n",
    "    while len(new_members) > 0:\n",
    "        has_neighbor = False\n",
    "        \n",
    "        for pixel in new_members:\n",
    "            x_min = max(0, pixel[0]-1)\n",
    "            x_max = min(len(edge_image), pixel[0]+1)\n",
    "            y_min = max(0, pixel[1]-1)\n",
    "            y_max = min(len(edge_image[0]), pixel[1]+1)\n",
    "            \n",
    "            for i in range(x_min, x_max+1):\n",
    "                for j in range(y_min, y_max+1):\n",
    "                    if (i,j) not in line_members and (i,j) not in new_members and edge_image[i,j] == 255:\n",
    "                        cached_members.append((i,j))\n",
    "                        has_neighbor = True\n",
    "                        edge_image[i,j] = 0\n",
    "\n",
    "            line_members.append(pixel)\n",
    "        new_members = list()        \n",
    "        for cm in cached_members:\n",
    "            new_members.append(cm)\n",
    "\n",
    "\n",
    "    return line_members, edge_image"
   ]
  },
  {
   "cell_type": "code",
   "execution_count": 289,
   "id": "f13e3918",
   "metadata": {},
   "outputs": [],
   "source": [
    "def get_colors(shape_dict, image_loc):\n",
    "    color_dict = dict()\n",
    "\n",
    "    color_image = cv2.imread(image_loc)\n",
    "    color_image = color_image[500:1450, 100:1000]\n",
    "\n",
    "    code = 97\n",
    "    for ball in shape_dict['ball']:\n",
    "        ball_coor = ball[0]\n",
    "        color = (color_image[ball_coor][0], color_image[ball_coor][1], color_image[ball_coor][2])\n",
    "    #     print(color)\n",
    "        if color not in color_dict:\n",
    "            color_dict[color] = chr(code)\n",
    "            code += 1\n",
    "    return color_dict"
   ]
  },
  {
   "cell_type": "code",
   "execution_count": 296,
   "id": "7c39d918",
   "metadata": {},
   "outputs": [],
   "source": [
    "def in_bounds(point, bounds):\n",
    "    if point[0] >= bounds[0][0] and point[0] <= bounds[0][1]:\n",
    "        if point[1] >= bounds[1][0] and point[1] <= bounds[1][1]:\n",
    "            return True\n",
    "    return False"
   ]
  },
  {
   "cell_type": "code",
   "execution_count": 311,
   "id": "3b80a310",
   "metadata": {},
   "outputs": [],
   "source": [
    "image_loc = '/Users/tkim/Downloads/bs2.png'\n",
    "\n",
    "edges = edge_detection(image_loc)\n",
    "blobs = blob_finder(edges)\n",
    "\n",
    "full_size_blobs = list()\n",
    "for blob in blobs:\n",
    "    if len(blob) > 200:\n",
    "        full_size_blobs.append(blob)\n",
    "        \n",
    "shape_dict = get_shapes(full_size_blobs)\n",
    "\n",
    "color_dict = get_colors(shape_dict, image_loc)"
   ]
  },
  {
   "cell_type": "code",
   "execution_count": 312,
   "id": "32a3ea46",
   "metadata": {},
   "outputs": [],
   "source": [
    "color_image = cv2.imread(image_loc)\n",
    "color_image = color_image[500:1450, 100:1000]\n",
    "\n",
    "tube_dict = dict()\n",
    "\n",
    "index = 0\n",
    "for tube in shape_dict['tube']:\n",
    "#     tube_dict[index] = list()\n",
    "    tube_dict[index] = str()\n",
    "    \n",
    "    tube_bounds = tube[1]\n",
    "    \n",
    "    for ball in shape_dict['ball']:\n",
    "        ball_center = ball[0]\n",
    "        ball_color = color_dict[(color_image[ball_center][0], color_image[ball_center][1], color_image[ball_center][2])]\n",
    "        if in_bounds(ball_center, tube_bounds):\n",
    "#             tube_dict[index].append(ball_color)\n",
    "            tube_dict[index] = ball_color + tube_dict[index]\n",
    "    \n",
    "    index += 1"
   ]
  },
  {
   "cell_type": "code",
   "execution_count": 313,
   "id": "77e82ea2",
   "metadata": {},
   "outputs": [
    {
     "data": {
      "text/plain": [
       "{0: 'cbaa', 1: 'cbcb', 2: 'acba', 3: '', 4: ''}"
      ]
     },
     "execution_count": 313,
     "metadata": {},
     "output_type": "execute_result"
    }
   ],
   "source": [
    "tube_dict"
   ]
  },
  {
   "cell_type": "code",
   "execution_count": 317,
   "id": "f00d2364",
   "metadata": {},
   "outputs": [
    {
     "data": {
      "text/plain": [
       "<matplotlib.image.AxesImage at 0x1787fe340>"
      ]
     },
     "execution_count": 317,
     "metadata": {},
     "output_type": "execute_result"
    },
    {
     "data": {
      "image/png": "[encoded data removed]",
      "text/plain": [
       "<Figure size 432x288 with 1 Axes>"
      ]
     },
     "metadata": {
      "needs_background": "light"
     },
     "output_type": "display_data"
    }
   ],
   "source": [
    "plt.imshow(color_image)"
   ]
  },
  {
   "cell_type": "code",
   "execution_count": 316,
   "id": "db1cbd79",
   "metadata": {},
   "outputs": [
    {
     "data": {
      "text/plain": [
       "{0: 'cbaa', 1: 'cbcb', 2: 'acba', 3: '', 4: ''}"
      ]
     },
     "execution_count": 316,
     "metadata": {},
     "output_type": "execute_result"
    }
   ],
   "source": [
    "process('/Users/tkim/Downloads/bs2.png')"
   ]
  },
  {
   "cell_type": "code",
   "execution_count": 314,
   "id": "0c7108f5",
   "metadata": {},
   "outputs": [],
   "source": [
    "def process(image_loc):\n",
    "    edges = edge_detection(image_loc)\n",
    "    blobs = blob_finder(edges)\n",
    "\n",
    "    full_size_blobs = list()\n",
    "    for blob in blobs:\n",
    "        if len(blob) > 200:\n",
    "            full_size_blobs.append(blob)\n",
    "\n",
    "    shape_dict = get_shapes(full_size_blobs)\n",
    "    color_dict = get_colors(shape_dict, image_loc)\n",
    "\n",
    "    color_image = cv2.imread(image_loc)\n",
    "    color_image = color_image[500:1450, 100:1000]\n",
    "\n",
    "    tube_dict = dict()\n",
    "    index = 0\n",
    "    for tube in shape_dict['tube']:\n",
    "        tube_dict[index] = str()\n",
    "\n",
    "        tube_bounds = tube[1]\n",
    "        for ball in shape_dict['ball']:\n",
    "            ball_center = ball[0]\n",
    "            ball_color = color_dict[(color_image[ball_center][0], color_image[ball_center][1], color_image[ball_center][2])]\n",
    "            if in_bounds(ball_center, tube_bounds):\n",
    "                tube_dict[index] = ball_color + tube_dict[index]\n",
    "\n",
    "        index += 1\n",
    "\n",
    "    return tube_dict"
   ]
  }
 ],
 "metadata": {
  "kernelspec": {
   "display_name": "Python 3 (ipykernel)",
   "language": "python",
   "name": "python3"
  },
  "language_info": {
   "codemirror_mode": {
    "name": "ipython",
    "version": 3
   },
   "file_extension": ".py",
   "mimetype": "text/x-python",
   "name": "python",
   "nbconvert_exporter": "python",
   "pygments_lexer": "ipython3",
   "version": "3.8.9"
  }
 },
 "nbformat": 4,
 "nbformat_minor": 5
}
