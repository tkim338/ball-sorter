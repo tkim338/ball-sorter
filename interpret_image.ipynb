{
 "cells": [
  {
   "cell_type": "code",
   "execution_count": 169,
   "id": "ad31b9b7",
   "metadata": {},
   "outputs": [],
   "source": [
    "import matplotlib.pyplot as plt\n",
    "import cv2\n",
    "import pandas as pd\n",
    "import random\n",
    "import copy"
   ]
  },
  {
   "cell_type": "code",
   "execution_count": 135,
   "id": "056881f6",
   "metadata": {},
   "outputs": [],
   "source": [
    "def edge_detection(image_location):\n",
    "    # Read the original image\n",
    "    img = cv2.imread(image_location)\n",
    "    # img = img[500:950,100:250]\n",
    "    img = img[500:1450, 100:1000]\n",
    "\n",
    "    # Convert to graycsale\n",
    "    img_gray = cv2.cvtColor(img, cv2.COLOR_BGR2GRAY)\n",
    "    # Blur the image for better edge detection\n",
    "    img_blur = cv2.GaussianBlur(img_gray, (3,3), 0) \n",
    "\n",
    "    # Canny Edge Detection\n",
    "    # edges = cv2.Canny(image=img_blur, threshold1=100, threshold2=200) # Canny Edge Detection\n",
    "    edges = cv2.Canny(image=img_blur, threshold1=200, threshold2=300) # Canny Edge Detection\n",
    "    return edges"
   ]
  },
  {
   "cell_type": "code",
   "execution_count": 263,
   "id": "a5d23669",
   "metadata": {},
   "outputs": [],
   "source": [
    "def shape_classifier(blob):\n",
    "    # based on ratio of height and width\n",
    "    x_min = 10000000\n",
    "    x_max = 0\n",
    "    y_min = 10000000\n",
    "    y_max = 0\n",
    "    \n",
    "    for coor in blob:\n",
    "        x_min = min([x_min, coor[0]])\n",
    "        x_max = max([x_max, coor[0]])\n",
    "        y_min = min([y_min, coor[1]])\n",
    "        y_max = max([y_max, coor[1]])\n",
    "        \n",
    "    height = x_max - x_min\n",
    "    width = y_max - y_min\n",
    "    center = (int((x_max+x_min)/2), int((y_max+y_min)/2))\n",
    "    \n",
    "    bounds = ((x_min, x_max),(y_min, y_max))\n",
    "    if height/width > 2:\n",
    "        return 'tube', center, bounds\n",
    "    else:\n",
    "        return 'ball', center, bounds"
   ]
  },
  {
   "cell_type": "code",
   "execution_count": 260,
   "id": "97ef01e3",
   "metadata": {},
   "outputs": [],
   "source": [
    "def overlap(b0, b1):        \n",
    "    if b0[0][0] >= b1[0][0] and b0[0][0] <= b1[0][1]:\n",
    "        return True\n",
    "    if b0[0][1] >= b1[0][0] and b0[0][1] <= b1[0][1]:\n",
    "        return True\n",
    "    if b0[1][0] >= b1[1][0] and b0[1][0] <= b1[1][1]:\n",
    "        return True\n",
    "    if b0[1][1] >= b1[1][0] and b0[1][1] <= b1[1][1]:\n",
    "        return True\n",
    "    else:\n",
    "        return False\n",
    "\n",
    "def proximity(c0, c1, r):\n",
    "    x = abs(c0[0]-c1[0])\n",
    "    y = abs(c0[1]-c1[1])\n",
    "    if (x*x)+(y*y) > r*r:\n",
    "        return False\n",
    "    else:\n",
    "        return True"
   ]
  },
  {
   "cell_type": "code",
   "execution_count": 261,
   "id": "c0f28771",
   "metadata": {},
   "outputs": [],
   "source": [
    "def get_shapes(blobs):\n",
    "    shape_centers = dict()\n",
    "    for blob in blobs:\n",
    "        shape, center, bounds = shape_classifier(blob)\n",
    "        if shape not in shape_centers:\n",
    "            shape_centers[shape] = list()\n",
    "        \n",
    "        new = True\n",
    "        for other_center, other_bounds in shape_centers[shape]:\n",
    "            if proximity(center, other_center, 10):\n",
    "                new = False\n",
    "                \n",
    "        if new:\n",
    "            shape_centers[shape].append((center, bounds))\n",
    "        \n",
    "    return shape_centers"
   ]
  },
  {
   "cell_type": "code",
   "execution_count": 198,
   "id": "8b3a13e6",
   "metadata": {},
   "outputs": [],
   "source": [
    "def blob_finder(edge_image):\n",
    "    blobs = list()\n",
    "    for x in range(0, len(edge_image)):\n",
    "        for y in range(0, len(edge_image[x])):\n",
    "            if edge_image[x,y] == 255:\n",
    "                blob, edge_image = find_line(x, y, [(x,y)], edge_image)\n",
    "                blobs.append(blob)\n",
    "    return blobs\n",
    "            \n",
    "def find_line(x, y, history, edge_image):\n",
    "    x_min = max(0, x-1)\n",
    "    x_max = min(len(edge_image), x+1)\n",
    "    y_min = max(0, y-1)\n",
    "    y_max = min(len(edge_image[0]), y+1)\n",
    "#     kernel = edge_image[x_min:x_max, y_min:y_max]\n",
    "    \n",
    "    for i in range(x_min, x_max+1):\n",
    "        for j in range(y_min, y_max+1):\n",
    "            if (i,j) not in history and edge_image[i,j] == 255:\n",
    "                edge_image[i,j] = 0\n",
    "                history, edge_image = find_line(i, j, history+[(i,j)], edge_image)\n",
    "    return history, edge_image"
   ]
  },
  {
   "cell_type": "code",
   "execution_count": 264,
   "id": "51649346",
   "metadata": {},
   "outputs": [],
   "source": [
    "edges = edge_detection('/Users/tkim/Downloads/bs.png')\n",
    "blobs = blob_finder(edges)\n",
    "\n",
    "full_size_blobs = list()\n",
    "for blob in blobs:\n",
    "    if len(blob) > 200:\n",
    "        full_size_blobs.append(blob)\n",
    "        \n",
    "shape_dict = get_shapes(full_size_blobs)"
   ]
  },
  {
   "cell_type": "code",
   "execution_count": 254,
   "id": "913bdd77",
   "metadata": {},
   "outputs": [],
   "source": [
    "color_dict = dict()\n",
    "\n",
    "color_image = cv2.imread('/Users/tkim/Downloads/bs.png')\n",
    "color_image = color_image[500:1450, 100:1000]\n",
    "\n",
    "code = 97\n",
    "for ball in shape_dict['ball']:\n",
    "    color = (color_image[ball][0], color_image[ball][1], color_image[ball][2])\n",
    "#     print(color)\n",
    "    if color not in color_dict:\n",
    "        color_dict[color] = chr(code)\n",
    "        code += 1"
   ]
  },
  {
   "cell_type": "code",
   "execution_count": 255,
   "id": "9ffd18dc",
   "metadata": {},
   "outputs": [
    {
     "data": {
      "text/plain": [
       "{(229, 163, 85): 'a',\n",
       " (35, 42, 197): 'b',\n",
       " (66, 140, 232): 'c',\n",
       " (124, 214, 98): 'd',\n",
       " (123, 94, 234): 'e',\n",
       " (14, 150, 120): 'f',\n",
       " (101, 100, 99): 'g',\n",
       " (195, 46, 58): 'h',\n",
       " (147, 43, 114): 'i'}"
      ]
     },
     "execution_count": 255,
     "metadata": {},
     "output_type": "execute_result"
    }
   ],
   "source": [
    "color_dict"
   ]
  },
  {
   "cell_type": "code",
   "execution_count": 270,
   "id": "0340d6ae",
   "metadata": {},
   "outputs": [
    {
     "data": {
      "text/plain": [
       "((219, 79), ((29, 410), (21, 138)))"
      ]
     },
     "execution_count": 270,
     "metadata": {},
     "output_type": "execute_result"
    }
   ],
   "source": [
    "shape_dict['tube'][0]"
   ]
  },
  {
   "cell_type": "code",
   "execution_count": 273,
   "id": "cdef0538",
   "metadata": {},
   "outputs": [
    {
     "data": {
      "text/plain": [
       "(119, 79)"
      ]
     },
     "execution_count": 273,
     "metadata": {},
     "output_type": "execute_result"
    }
   ],
   "source": [
    "shape_dict['ball'][0][0]"
   ]
  },
  {
   "cell_type": "code",
   "execution_count": 271,
   "id": "5a826a94",
   "metadata": {},
   "outputs": [],
   "source": [
    "tube_dict = dict()\n",
    "\n",
    "for tube in shape_dict['tube']:\n",
    "\n",
    "for tube in shape_dict['tube']:\n",
    "    bounds = tube[1]\n",
    "    x = bounds[0]\n",
    "    y = bounds[1]\n",
    "    \n",
    "    for ball in shape_dict['ball']:\n",
    "        ball_center = ball[0]\n",
    "        if ball_center[0] >= x[0] and ball_center[0] <= x[1]:\n",
    "            if ball_center[1] >= y[0] and ball_center[1] <= y[1]:\n",
    "                "
   ]
  },
  {
   "cell_type": "code",
   "execution_count": 238,
   "id": "9e6b8843",
   "metadata": {},
   "outputs": [
    {
     "data": {
      "text/plain": [
       "<matplotlib.image.AxesImage at 0x178b2fcd0>"
      ]
     },
     "execution_count": 238,
     "metadata": {},
     "output_type": "execute_result"
    },
    {
     "data": {
      "image/png": "[encoded data removed]",
      "text/plain": [
       "<Figure size 432x288 with 1 Axes>"
      ]
     },
     "metadata": {
      "needs_background": "light"
     },
     "output_type": "display_data"
    }
   ],
   "source": [
    "img = cv2.imread('/Users/tkim/Downloads/bs.png')\n",
    "img = img[500:1450, 100:1000]\n",
    "# plt.imshow(img[0:200,0:200])\n",
    "plt.imshow(img)"
   ]
  }
 ],
 "metadata": {
  "kernelspec": {
   "display_name": "Python 3 (ipykernel)",
   "language": "python",
   "name": "python3"
  },
  "language_info": {
   "codemirror_mode": {
    "name": "ipython",
    "version": 3
   },
   "file_extension": ".py",
   "mimetype": "text/x-python",
   "name": "python",
   "nbconvert_exporter": "python",
   "pygments_lexer": "ipython3",
   "version": "3.8.9"
  }
 },
 "nbformat": 4,
 "nbformat_minor": 5
}
