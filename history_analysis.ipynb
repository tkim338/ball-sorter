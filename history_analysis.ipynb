{
 "cells": [
  {
   "cell_type": "code",
   "execution_count": 43,
   "id": "e6f26a41",
   "metadata": {},
   "outputs": [],
   "source": [
    "with open('outputs/history.txt') as f:\n",
    "    lines = f.readlines()\n",
    "\n",
    "states = lines[0].split(',')\n",
    "\n",
    "for i in range(0, len(states)):\n",
    "    states[i] = states[i].replace('[', '').replace(']', '').replace('\\'', '')"
   ]
  },
  {
   "cell_type": "code",
   "execution_count": 44,
   "id": "fef2cb88",
   "metadata": {},
   "outputs": [],
   "source": [
    "# check for duplicates\n",
    "\n",
    "hist = dict()\n",
    "\n",
    "for s in states:\n",
    "    if s not in hist:\n",
    "        hist[s] = 1\n",
    "    else:\n",
    "        hist[s] = hist[s]+1\n",
    "        print('found duplicate')\n",
    "        print(s)"
   ]
  },
  {
   "cell_type": "code",
   "execution_count": null,
   "id": "b7dd1705",
   "metadata": {},
   "outputs": [],
   "source": [
    "def permutations(state):\n",
    "    perm_list = list()\n",
    "    \n",
    "    for "
   ]
  },
  {
   "cell_type": "code",
   "execution_count": 45,
   "id": "81d4d3f8",
   "metadata": {},
   "outputs": [
    {
     "data": {
      "text/plain": [
       "'eac*bbcaddbaedcbeceda*******'"
      ]
     },
     "execution_count": 45,
     "metadata": {},
     "output_type": "execute_result"
    }
   ],
   "source": [
    "states[0]"
   ]
  },
  {
   "cell_type": "code",
   "execution_count": 49,
   "id": "a7796d2e",
   "metadata": {},
   "outputs": [],
   "source": [
    "ts = set(states[0])"
   ]
  },
  {
   "cell_type": "code",
   "execution_count": 52,
   "id": "0a5321c2",
   "metadata": {},
   "outputs": [
    {
     "name": "stdout",
     "output_type": "stream",
     "text": [
      "c\n",
      "b\n",
      "d\n",
      "*\n",
      "e\n",
      "a\n"
     ]
    }
   ],
   "source": [
    "for t in ts:\n",
    "    print(t)"
   ]
  },
  {
   "cell_type": "code",
   "execution_count": 53,
   "id": "896e1051",
   "metadata": {},
   "outputs": [
    {
     "data": {
      "text/plain": [
       "True"
      ]
     },
     "execution_count": 53,
     "metadata": {},
     "output_type": "execute_result"
    }
   ],
   "source": [
    "{'4', '5'} == {'5', '4'}"
   ]
  }
 ],
 "metadata": {
  "kernelspec": {
   "display_name": "Python 3 (ipykernel)",
   "language": "python",
   "name": "python3"
  },
  "language_info": {
   "codemirror_mode": {
    "name": "ipython",
    "version": 3
   },
   "file_extension": ".py",
   "mimetype": "text/x-python",
   "name": "python",
   "nbconvert_exporter": "python",
   "pygments_lexer": "ipython3",
   "version": "3.8.9"
  }
 },
 "nbformat": 4,
 "nbformat_minor": 5
}
